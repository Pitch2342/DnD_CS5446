{
 "cells": [
  {
   "cell_type": "markdown",
   "metadata": {},
   "source": [
    "# Learning Analysis"
   ]
  },
  {
   "cell_type": "markdown",
   "metadata": {},
   "source": [
    "The purpose of this notebook is to document results from training"
   ]
  },
  {
   "cell_type": "markdown",
   "metadata": {},
   "source": [
    "## Preamble"
   ]
  },
  {
   "cell_type": "code",
   "execution_count": 1,
   "metadata": {},
   "outputs": [],
   "source": [
    "import pandas as pd\n",
    "import dill\n",
    "from collections import Counter\n",
    "from collections import defaultdict\n",
    "from matplotlib import pyplot as plt\n",
    "import torch\n",
    "import numpy as np"
   ]
  },
  {
   "cell_type": "markdown",
   "metadata": {},
   "source": [
    "### Helper Functions"
   ]
  },
  {
   "cell_type": "code",
   "execution_count": 2,
   "metadata": {},
   "outputs": [],
   "source": [
    "def calc_win_percentage(winner_list, creatures):\n",
    "    total_games_played = len(winner_list)\n",
    "    counts = Counter(winner_list)\n",
    "    win_percentages = {creature: num_wins/total_games_played for creature, num_wins in counts.items()}\n",
    "    for creature in creatures:\n",
    "        if creature not in win_percentages.keys():\n",
    "            win_percentages[creature] = 0\n",
    "    return win_percentages\n",
    "\n",
    "def report_actions(state):\n",
    "    action_names = [\n",
    "        \"end\",\n",
    "        \"left\",\n",
    "        \"right\",\n",
    "        \"up\",\n",
    "        \"down\",\n",
    "        \"shot\",\n",
    "    ]\n",
    "\n",
    "    try:\n",
    "        dist, value = policy_net(state)\n",
    "        action_probs = dist.probs.data.numpy()[0]\n",
    "    except:\n",
    "        action_probs = policy_net(state).detach().numpy().reshape(-1)\n",
    "\n",
    "\n",
    "    actions = list(zip(action_names, action_probs))\n",
    "    for an, a in actions:\n",
    "        print(\"{}: \\t{}\".format(an, a))\n",
    "    print(\"-----{}-----\".format(\n",
    "        action_names[int(np.argmax(action_probs))]\n",
    "    ))\n"
   ]
  },
  {
   "cell_type": "markdown",
   "metadata": {},
   "source": [
    "### Load Data"
   ]
  },
  {
   "cell_type": "markdown",
   "metadata": {},
   "source": [
    "## Method Analysis"
   ]
  },
  {
   "cell_type": "code",
   "execution_count": 3,
   "metadata": {},
   "outputs": [
    {
     "name": "stdout",
     "output_type": "stream",
     "text": [
      "Number of games played: 927580\n",
      "0\n",
      "50000\n",
      "100000\n",
      "150000\n",
      "200000\n",
      "250000\n",
      "300000\n",
      "350000\n",
      "400000\n",
      "450000\n",
      "500000\n",
      "550000\n",
      "600000\n",
      "650000\n",
      "700000\n",
      "750000\n",
      "800000\n",
      "850000\n",
      "900000\n",
      "creature plot\n"
     ]
    },
    {
     "data": {
      "image/png": "[encoded data removed]",
      "text/plain": [
       "<Figure size 432x288 with 1 Axes>"
      ]
     },
     "metadata": {
      "needs_background": "light"
     },
     "output_type": "display_data"
    }
   ],
   "source": [
    "model_name = 'PPO'\n",
    "winner_list = dill.load(open(\"results/winner_list_{}.pickle\".format(model_name), \"rb\"))\n",
    "\n",
    "batch_size = 1024\n",
    "win_pcts = defaultdict(list)\n",
    "avg_rewards = list()\n",
    "\n",
    "creatures = [\"Leotris\"]  #, \"Strahd\", \"Timeout\"]\n",
    "\n",
    "print(\"Number of games played: {}\".format(len(winner_list)))\n",
    "\n",
    "# Graph win percentage:\n",
    "for i in range(0, len(winner_list) - batch_size):\n",
    "    if i%50000==0:print(i)\n",
    "    batch_winner_list = winner_list[i:(i+batch_size)]\n",
    "    win_pct = calc_win_percentage(batch_winner_list, creatures=creatures)\n",
    "    for creature, batch_win_pct in win_pct.items():\n",
    "        win_pcts[creature].append(batch_win_pct)\n",
    "print('creature plot')\n",
    "for creature in creatures:\n",
    "    plt.plot(range(len(win_pcts[creature])), win_pcts[creature], label=creature)\n",
    "plt.title(\"{} Game Win Percentage ({})\".format(batch_size, model_name))\n",
    "plt.ylabel(\"Win Percentage (%)\")\n",
    "plt.xlabel(\"{} Game Set\".format(batch_size))\n",
    "plt.legend()\n",
    "plt.savefig('results/{}.png'.format(model_name))\n",
    "plt.show()\n",
    "\n",
    "# reward_list = dill.load(open(\"results/reward_list_{}.pickle\".format(model_name), \"rb\"))\n",
    "# # Graph reward:\n",
    "# for i in range(0, len(reward_list) - batch_size):\n",
    "#     batch_reward_list = reward_list[i:(i+batch_size)]\n",
    "#     avg_reward = np.mean(batch_reward_list)\n",
    "#     avg_rewards.append(avg_reward)\n",
    "    \n",
    "# plt.plot(range(len(avg_rewards)), avg_rewards)\n",
    "# plt.title(\"Average Rewards\")\n",
    "# plt.ylabel(\"Average Reward\")\n",
    "# plt.xlabel(\"{} Game Set\".format(batch_size))\n",
    "# plt.show()"
   ]
  },
  {
   "cell_type": "markdown",
   "metadata": {},
   "source": [
    "## Scratch"
   ]
  },
  {
   "cell_type": "code",
   "execution_count": 4,
   "metadata": {},
   "outputs": [
    {
     "name": "stdout",
     "output_type": "stream",
     "text": [
      "end: \t3.746663047898054e-15\n",
      "left: \t9.682601248561795e-11\n",
      "right: \t3.894778943802635e-10\n",
      "up: \t1.971670882117138e-10\n",
      "down: \t7.656270617495409e-10\n",
      "shot: \t1.0\n",
      "-----shot-----\n",
      "\n",
      "end: \t0.9601194858551025\n",
      "left: \t0.015887390822172165\n",
      "right: \t0.0017220675945281982\n",
      "up: \t0.019090011715888977\n",
      "down: \t0.001933928462676704\n",
      "shot: \t0.001247171894647181\n",
      "-----end-----\n",
      "\n"
     ]
    }
   ],
   "source": [
    "policy_net = dill.load(open(\"results/model_{}.pickle\".format(model_name), \"rb\"))\n",
    "state = torch.tensor([[\n",
    "    0.1, # hit points\n",
    "    1.0, # enemy hit points\n",
    "    0.4, # x pos\n",
    "    0.5, # y pos\n",
    "    0.5, # enemy x\n",
    "    0.5, # enemy y\n",
    "    0.0, # attacks used\n",
    "    1.0, # movement remaining\n",
    "    0.0, # number steps\n",
    "]])\n",
    "\n",
    "report_actions(state)\n",
    "print()\n",
    "\n",
    "state = torch.tensor([[\n",
    "    0.1, # hit points\n",
    "    1.0, # enemy hit points\n",
    "    0.4, # x pos\n",
    "    0.5, # y pos\n",
    "    0.5, # enemy x\n",
    "    0.5, # enemy y\n",
    "    1.0, # attacks used\n",
    "    1.0, # movement remaining\n",
    "    0.0, # number steps\n",
    "]])\n",
    "\n",
    "report_actions(state)\n",
    "print()\n",
    "\n",
    "# for param in policy_net.actor_layer.parameters():\n",
    "#     print(param)"
   ]
  },
  {
   "cell_type": "code",
   "execution_count": null,
   "metadata": {},
   "outputs": [],
   "source": []
  }
 ],
 "metadata": {
  "kernelspec": {
   "display_name": "Python 3",
   "language": "python",
   "name": "python3"
  },
  "language_info": {
   "codemirror_mode": {
    "name": "ipython",
    "version": 3
   },
   "file_extension": ".py",
   "mimetype": "text/x-python",
   "name": "python",
   "nbconvert_exporter": "python",
   "pygments_lexer": "ipython3",
   "version": "3.6.13"
  }
 },
 "nbformat": 4,
 "nbformat_minor": 4
}
