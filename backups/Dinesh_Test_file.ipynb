{
 "cells": [
  {
   "cell_type": "code",
   "execution_count": 1,
   "id": "8d6df81a",
   "metadata": {},
   "outputs": [],
   "source": [
    "from agents import TIME_LIMIT\n",
    "from creatures import vampire\n",
    "from creatures import leotris\n",
    "from environments import square_room\n",
    "from combat_handler import CombatHandler\n",
    "from utils.agent_utils import calc_win_percentage\n",
    "\n",
    "import dill\n",
    "import numpy as np\n",
    "import torch\n",
    "\n",
    "np.set_printoptions(precision=3)\n",
    "np.set_printoptions(suppress=True)"
   ]
  },
  {
   "cell_type": "code",
   "execution_count": 2,
   "id": "3c03214d",
   "metadata": {},
   "outputs": [],
   "source": [
    "def intialize_combatants(combatants, combat_handler):\n",
    "    \"\"\"\n",
    "    :param combatants:\n",
    "    :return:\n",
    "    \"\"\"\n",
    "    [combatant.initialize(combat_handler) for combatant in combatants]\n",
    "\n",
    "\n",
    "def main():\n",
    "    \"\"\"\n",
    "    Todo: Provide main documentation/overview\n",
    "    \"\"\"\n",
    "    n_iters = int(1)\n",
    "\n",
    "    winner_list = []\n",
    "    total_rewards = []\n",
    "    last_states = []\n",
    "    num_actions_takens = []\n",
    "\n",
    "    for i in range(n_iters):\n",
    "        combat_handler = CombatHandler(\n",
    "            environment=square_room,\n",
    "            combatants=[leotris, vampire],\n",
    "            time_limit=TIME_LIMIT\n",
    "        )\n",
    "        intialize_combatants([leotris, vampire], combat_handler=combat_handler)\n",
    "        winner, total_reward, last_state, num_actions_taken = combat_handler.run()\n",
    "        #print(winner)\n",
    "        winner_list.append(winner)\n",
    "        total_rewards.append(total_reward)\n",
    "        last_states.append(last_state)\n",
    "        num_actions_takens.append(num_actions_taken)"
   ]
  },
  {
   "cell_type": "code",
   "execution_count": 3,
   "id": "22f261d3",
   "metadata": {},
   "outputs": [],
   "source": [
    "main()"
   ]
  }
 ],
 "metadata": {
  "kernelspec": {
   "display_name": "Python 3",
   "language": "python",
   "name": "python3"
  },
  "language_info": {
   "codemirror_mode": {
    "name": "ipython",
    "version": 3
   },
   "file_extension": ".py",
   "mimetype": "text/x-python",
   "name": "python",
   "nbconvert_exporter": "python",
   "pygments_lexer": "ipython3",
   "version": "3.6.13"
  }
 },
 "nbformat": 4,
 "nbformat_minor": 5
}
