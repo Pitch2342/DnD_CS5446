{
 "cells": [
  {
   "cell_type": "markdown",
   "metadata": {},
   "source": [
    "# Imports"
   ]
  },
  {
   "cell_type": "code",
   "execution_count": 1,
   "metadata": {},
   "outputs": [],
   "source": [
    "# Default needs\n",
    "import dill\n",
    "import numpy as np\n",
    "import torch\n",
    "import pandas as pd\n",
    "from collections import Counter\n",
    "from collections import defaultdict\n",
    "from matplotlib import pyplot as plt\n",
    "\n",
    "np.set_printoptions(precision=3)\n",
    "np.set_printoptions(suppress=True)\n",
    "\n",
    "# Importing Environments\n",
    "from environments import square_room\n",
    "\n",
    "from utils.agent_utils import calc_win_percentage\n",
    "\n",
    "# Combat Handler\n",
    "from combat_handler import CombatHandler\n",
    "\n",
    "# agents\n",
    "from agents import TIME_LIMIT\n",
    "\n",
    "# Actions and Players\n",
    "from actions import *\n",
    "from players import dungeon_master\n",
    "from players import hayden\n",
    "from utils.dnd_utils import roll_dice\n",
    "from creatures import Creature\n",
    "\n",
    "# PPO and RandStrat\n",
    "from agents import PPO\n",
    "from agents import RandomStrategy\n",
    "\n",
    "# Logging and Time\n",
    "import logging\n",
    "from datetime import datetime\n",
    "import time"
   ]
  },
  {
   "cell_type": "markdown",
   "metadata": {},
   "source": [
    "# Helper Files"
   ]
  },
  {
   "cell_type": "code",
   "execution_count": 2,
   "metadata": {},
   "outputs": [],
   "source": [
    "# Helpers\n",
    "def report_win_percentages(winner_list, num_games, combatants, total_rewards, last_states, num_actions_takens):\n",
    "    \"\"\"\n",
    "    :return: None\n",
    "    \"\"\"\n",
    "    win_percentages = calc_win_percentage(winner_list[-num_games:], combatants)\n",
    "    last_states = torch.cat(last_states).data.numpy()\n",
    "    print(\"Win percentages: {}\\t\".format(win_percentages))\n",
    "    logger.info((\"Win percentages: {}\\t\".format(win_percentages)))\n",
    "\n",
    "    results = list(zip(winner_list[-num_games:], total_rewards[-num_games:], last_states, num_actions_takens))\n",
    "    results = sorted(results, key=lambda x: -x[1])\n",
    "\n",
    "    for winner, avg_reward, last_state, num_actions_taken in results:\n",
    "        print(\" {}: {} ({}) \\t\\t{}\".format(winner, avg_reward, last_state, num_actions_taken))\n",
    "    print(\"----------------------\\n\")\n",
    "\n",
    "\n",
    "def intialize_combatants(combatants, combat_handler):\n",
    "    \"\"\"\n",
    "    :param combatants:\n",
    "    :return:\n",
    "    \"\"\"\n",
    "    [combatant.initialize(combat_handler) for combatant in combatants]\n"
   ]
  },
  {
   "cell_type": "markdown",
   "metadata": {},
   "source": [
    "# DEFINE PARAMS - EDIT HERE\n",
    "- SET EXPERIMENT NAME - 1 CELL BELOW\n",
    "- SET CHARACTER STATS - 3 CELLS BELOW\n",
    "- N_ITERS - 3 CELLS BELOW"
   ]
  },
  {
   "cell_type": "markdown",
   "metadata": {},
   "source": [
    "#### EDIT BELOW CELL"
   ]
  },
  {
   "cell_type": "code",
   "execution_count": 3,
   "metadata": {},
   "outputs": [],
   "source": [
    "EXPT_NAME = \"Wizard_Vs_Manticore\""
   ]
  },
  {
   "cell_type": "code",
   "execution_count": 4,
   "metadata": {},
   "outputs": [
    {
     "name": "stdout",
     "output_type": "stream",
     "text": [
      "GONNA LOG AT  logs\\Plays_Wizard_Vs_Manticore_2022-11-06T19-27-07.log\n"
     ]
    }
   ],
   "source": [
    "start_time = str(datetime.now().isoformat()[:-7]).replace(':',\"-\")\n",
    "\n",
    "log_file_name = \"logs\\Plays_\"+EXPT_NAME+\"_\"+start_time+\".log\"\n",
    "\n",
    "logging.basicConfig(filename=log_file_name, filemode='w', level=logging.INFO)\n",
    "logger = logging.getLogger(\"RUNNER\")\n",
    "\n",
    "print(\"GONNA LOG AT \",log_file_name)"
   ]
  },
  {
   "cell_type": "markdown",
   "metadata": {},
   "source": [
    "#### EDIT BELOW CELL\n",
    "- CHARACTER DEFINITIONS \n",
    "    - copied from creatures.py with modifications\n",
    "    - For custome reward function, etc\n",
    "- N_ITERS = iterations"
   ]
  },
  {
   "cell_type": "code",
   "execution_count": 5,
   "metadata": {},
   "outputs": [],
   "source": [
    "wizard = Creature(\n",
    "    player=hayden,\n",
    "    name=\"Leotris\",\n",
    "    hit_points=16,\n",
    "    armor_class=11,\n",
    "    resistance = 0,\n",
    "    actions=[MoveLeft(), MoveRight(), MoveUp(), MoveDown(), DoNotMove(), fire_bolt_cantrip, ray_of_frost_cantrip, chromatic_orb_level_1, magic_missile_level_1, scorching_ray_level_2, aganazzars_scorcher_level_2],\n",
    "    location=np.array([5, 10]),\n",
    "    level_1_spell_slots = 3,\n",
    "    level_2_spell_slots = 1,\n",
    "    symbol=\"x\",\n",
    "    strategy=PPO(win_reward=50,lose_reward=-50,attack_dealt_reward=1,attack_recieved_reward=-1)\n",
    ")\n",
    "\n",
    "manticore = Creature(\n",
    "    player=dungeon_master,\n",
    "    name=\"Strahd\",\n",
    "    hit_points=95,\n",
    "    armor_class=16,\n",
    "    actions=[MoveLeft(), MoveRight(), MoveUp(), MoveDown(), DoNotMove(), bite, tail_spike],\n",
    "    level_1_spell_slots = 10,\n",
    "    location=np.array([5, 5]),\n",
    "    symbol=\"@\",\n",
    "    strategy=RandomStrategy()\n",
    ")\n",
    "\n",
    "n_iters = 50"
   ]
  },
  {
   "cell_type": "markdown",
   "metadata": {},
   "source": [
    "#### Running Now"
   ]
  },
  {
   "cell_type": "code",
   "execution_count": 6,
   "metadata": {},
   "outputs": [
    {
     "name": "stdout",
     "output_type": "stream",
     "text": [
      "Win percentages: [('Leotris', 0.7), ('Strahd', 0.3)]\t\n",
      " Leotris: 67 ([ 0.562 -0.063  0.7    0.5    0.6    0.3    1.     0.667  0.573]) \t\t859\n",
      " Leotris: 66 ([ 0.062 -0.053  0.6    0.4    0.1    0.5    1.     0.5    0.587]) \t\t880\n",
      " Leotris: 65 ([0.562 0.    0.7   0.8   0.6   0.6   1.    1.    0.78 ]) \t\t1170\n",
      " Leotris: 63 ([ 0.562 -0.032  0.5    0.8    0.3    0.8    1.     0.5    0.475]) \t\t712\n",
      " Leotris: 61 ([ 0.188 -0.042  0.5    0.3    0.2    0.2    1.     1.     0.367]) \t\t551\n",
      " Leotris: 60 ([ 0.688 -0.042  0.5    0.7    0.4    0.1    1.     0.     0.606]) \t\t909\n",
      " Leotris: 59 ([ 0.375 -0.032  0.2    0.5    0.4    0.7    1.     0.167  0.645]) \t\t967\n",
      " Strahd: -41 ([-0.188  0.263  0.5    0.2    0.6    0.2    0.     1.     0.291]) \t\t437\n",
      " Strahd: -50 ([-0.062  0.684  0.2    0.1    0.1    0.1    0.     1.     0.043]) \t\t64\n",
      " Strahd: -54 ([-0.062  1.     0.6    0.6    0.3    0.3    0.     1.     0.087]) \t\t131\n",
      "----------------------\n",
      "\n"
     ]
    },
    {
     "name": "stderr",
     "output_type": "stream",
     "text": [
      "c:\\ProgramData\\Anaconda3\\envs\\cs5446_dnd\\lib\\site-packages\\torch\\storage.py:34: FutureWarning: pickle support for Storage will be removed in 1.5. Use `torch.save` instead\n",
      "  warnings.warn(\"pickle support for Storage will be removed in 1.5. Use `torch.save` instead\", FutureWarning)\n"
     ]
    },
    {
     "name": "stdout",
     "output_type": "stream",
     "text": [
      "Win percentages: [('Leotris', 0.6), ('Strahd', 0.4)]\t\n",
      " Leotris: 66 ([0.562 0.    0.7   0.8   0.6   0.6   1.    1.    0.78 ]) \t\t1170\n",
      " Leotris: 64 ([-0.188  0.263  0.5    0.2    0.6    0.2    0.     1.     0.291]) \t\t437\n",
      " Leotris: 63 ([ 0.688 -0.042  0.5    0.7    0.4    0.1    1.     0.     0.606]) \t\t909\n",
      " Leotris: 61 ([-0.062  1.     0.6    0.6    0.3    0.3    0.     1.     0.087]) \t\t131\n",
      " Leotris: 61 ([ 0.562 -0.032  0.5    0.8    0.3    0.8    1.     0.5    0.475]) \t\t712\n",
      " Leotris: 61 ([ 0.375 -0.032  0.2    0.5    0.4    0.7    1.     0.167  0.645]) \t\t967\n",
      " Strahd: -38 ([ 0.062 -0.053  0.6    0.4    0.1    0.5    1.     0.5    0.587]) \t\t880\n",
      " Strahd: -41 ([ 0.562 -0.063  0.7    0.5    0.6    0.3    1.     0.667  0.573]) \t\t859\n",
      " Strahd: -42 ([ 0.188 -0.042  0.5    0.3    0.2    0.2    1.     1.     0.367]) \t\t551\n",
      " Strahd: -44 ([-0.062  0.684  0.2    0.1    0.1    0.1    0.     1.     0.043]) \t\t64\n",
      "----------------------\n",
      "\n",
      "Win percentages: [('Leotris', 0.6), ('Strahd', 0.4)]\t\n",
      " Leotris: 66 ([-0.062  1.     0.6    0.6    0.3    0.3    0.     1.     0.087]) \t\t131\n",
      " Leotris: 66 ([-0.188  0.263  0.5    0.2    0.6    0.2    0.     1.     0.291]) \t\t437\n",
      " Leotris: 65 ([ 0.562 -0.032  0.5    0.8    0.3    0.8    1.     0.5    0.475]) \t\t712\n",
      " Leotris: 65 ([ 0.688 -0.042  0.5    0.7    0.4    0.1    1.     0.     0.606]) \t\t909\n",
      " Leotris: 63 ([ 0.188 -0.042  0.5    0.3    0.2    0.2    1.     1.     0.367]) \t\t551\n",
      " Leotris: 55 ([ 0.062 -0.053  0.6    0.4    0.1    0.5    1.     0.5    0.587]) \t\t880\n",
      " Strahd: -41 ([ 0.562 -0.063  0.7    0.5    0.6    0.3    1.     0.667  0.573]) \t\t859\n",
      " Strahd: -44 ([0.562 0.    0.7   0.8   0.6   0.6   1.    1.    0.78 ]) \t\t1170\n",
      " Strahd: -44 ([ 0.375 -0.032  0.2    0.5    0.4    0.7    1.     0.167  0.645]) \t\t967\n",
      " Strahd: -45 ([-0.062  0.684  0.2    0.1    0.1    0.1    0.     1.     0.043]) \t\t64\n",
      "----------------------\n",
      "\n",
      "Win percentages: [('Leotris', 0.7), ('Strahd', 0.3)]\t\n",
      " Leotris: 67 ([ 0.375 -0.032  0.2    0.5    0.4    0.7    1.     0.167  0.645]) \t\t967\n",
      " Leotris: 66 ([-0.062  0.684  0.2    0.1    0.1    0.1    0.     1.     0.043]) \t\t64\n",
      " Leotris: 66 ([ 0.688 -0.042  0.5    0.7    0.4    0.1    1.     0.     0.606]) \t\t909\n",
      " Leotris: 64 ([ 0.562 -0.063  0.7    0.5    0.6    0.3    1.     0.667  0.573]) \t\t859\n",
      " Leotris: 63 ([-0.188  0.263  0.5    0.2    0.6    0.2    0.     1.     0.291]) \t\t437\n",
      " Leotris: 63 ([ 0.188 -0.042  0.5    0.3    0.2    0.2    1.     1.     0.367]) \t\t551\n",
      " Leotris: 60 ([ 0.062 -0.053  0.6    0.4    0.1    0.5    1.     0.5    0.587]) \t\t880\n",
      " Strahd: -43 ([ 0.562 -0.032  0.5    0.8    0.3    0.8    1.     0.5    0.475]) \t\t712\n",
      " Strahd: -47 ([0.562 0.    0.7   0.8   0.6   0.6   1.    1.    0.78 ]) \t\t1170\n",
      " Strahd: -49 ([-0.062  1.     0.6    0.6    0.3    0.3    0.     1.     0.087]) \t\t131\n",
      "----------------------\n",
      "\n",
      "Win percentages: [('Leotris', 0.6), ('Strahd', 0.4)]\t\n",
      " Leotris: 69 ([ 0.062 -0.053  0.6    0.4    0.1    0.5    1.     0.5    0.587]) \t\t880\n",
      " Leotris: 68 ([ 0.562 -0.063  0.7    0.5    0.6    0.3    1.     0.667  0.573]) \t\t859\n",
      " Leotris: 68 ([0.562 0.    0.7   0.8   0.6   0.6   1.    1.    0.78 ]) \t\t1170\n",
      " Leotris: 67 ([ 0.375 -0.032  0.2    0.5    0.4    0.7    1.     0.167  0.645]) \t\t967\n",
      " Leotris: 66 ([-0.062  1.     0.6    0.6    0.3    0.3    0.     1.     0.087]) \t\t131\n",
      " Leotris: 66 ([ 0.688 -0.042  0.5    0.7    0.4    0.1    1.     0.     0.606]) \t\t909\n",
      " Strahd: -41 ([-0.062  0.684  0.2    0.1    0.1    0.1    0.     1.     0.043]) \t\t64\n",
      " Strahd: -46 ([ 0.562 -0.032  0.5    0.8    0.3    0.8    1.     0.5    0.475]) \t\t712\n",
      " Strahd: -46 ([ 0.188 -0.042  0.5    0.3    0.2    0.2    1.     1.     0.367]) \t\t551\n",
      " Strahd: -49 ([-0.188  0.263  0.5    0.2    0.6    0.2    0.     1.     0.291]) \t\t437\n",
      "----------------------\n",
      "\n"
     ]
    }
   ],
   "source": [
    "winner_list = []\n",
    "total_rewards = []\n",
    "last_states = []\n",
    "num_actions_takens = []\n",
    "\n",
    "logger.info((\"BEGIN RUNNING FOR \",n_iters, datetime.now().isoformat()))\n",
    "\n",
    "for i in range(n_iters):\n",
    "    combat_handler = CombatHandler(\n",
    "        environment=square_room,\n",
    "        combatants=[wizard, manticore],\n",
    "        time_limit=TIME_LIMIT\n",
    "    )\n",
    "    intialize_combatants([wizard, manticore], combat_handler=combat_handler)\n",
    "    winner, total_reward, last_state, num_actions_taken = combat_handler.run()\n",
    "\n",
    "    winner_list.append(winner)\n",
    "    total_rewards.append(total_reward)\n",
    "    last_states.append(last_state)\n",
    "    num_actions_takens.append(num_actions_taken)\n",
    "\n",
    "    if (i + 1) % 10 == 0:\n",
    "        report_win_percentages(\n",
    "                    winner_list=winner_list,\n",
    "                    num_games=10,\n",
    "                    combatants=[wizard, manticore],\n",
    "                    total_rewards=total_rewards,\n",
    "                    last_states=last_states,\n",
    "                    num_actions_takens=num_actions_takens\n",
    "        )\n",
    "\n",
    "    # Save tabular Q\n",
    "    if (i + 1) % 10 == 0:\n",
    "        dill.dump(winner_list, open(\"results/winner_list_{}_EXPT_{}_STARTED_{}_NITERS{}.pickle\".format(wizard.strategy.name, EXPT_NAME, start_time, n_iters), \"wb\"))\n",
    "        dill.dump(wizard.strategy.policy_net, open(\"results/model_{}_EXPT_{}_STARTED_{}_ITERS_{}.pickle\".format(wizard.strategy.name, EXPT_NAME, start_time,i+1), \"wb\"))\n",
    "        dill.dump(total_rewards, open('results/reward_list_{}_EXPT_{}_STARTED_{}_NITERS{}.pickle'.format(wizard.strategy.name, EXPT_NAME, start_time, n_iters), \"wb\"))\n",
    "\n",
    "\n",
    "logger.info((\"DONE RUNNING FOR \",n_iters, datetime.now().isoformat()))"
   ]
  },
  {
   "cell_type": "code",
   "execution_count": null,
   "metadata": {},
   "outputs": [],
   "source": []
  }
 ],
 "metadata": {
  "kernelspec": {
   "display_name": "Python 3.6.13 ('cs5446_dnd')",
   "language": "python",
   "name": "python3"
  },
  "language_info": {
   "codemirror_mode": {
    "name": "ipython",
    "version": 3
   },
   "file_extension": ".py",
   "mimetype": "text/x-python",
   "name": "python",
   "nbconvert_exporter": "python",
   "pygments_lexer": "ipython3",
   "version": "3.6.13"
  },
  "orig_nbformat": 4,
  "vscode": {
   "interpreter": {
    "hash": "a4b9ad229121b29662cfeadce241473fe91dfdaf5146c5435feacc558a449858"
   }
  }
 },
 "nbformat": 4,
 "nbformat_minor": 2
}
