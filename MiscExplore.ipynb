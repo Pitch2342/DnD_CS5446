{
 "cells": [
  {
   "cell_type": "code",
   "execution_count": 1,
   "metadata": {},
   "outputs": [],
   "source": [
    "# Default needs\n",
    "import dill\n",
    "import numpy as np\n",
    "import pandas as pd\n",
    "import torch\n",
    "import pandas as pd\n",
    "from collections import Counter\n",
    "from collections import defaultdict\n",
    "from matplotlib import pyplot as plt\n",
    "\n",
    "np.set_printoptions(precision=3)\n",
    "np.set_printoptions(suppress=True)\n",
    "\n",
    "import pickle"
   ]
  },
  {
   "cell_type": "markdown",
   "metadata": {},
   "source": [
    "# Explore SARSA and PPO Training Results"
   ]
  },
  {
   "cell_type": "code",
   "execution_count": 2,
   "metadata": {},
   "outputs": [
    {
     "name": "stdout",
     "output_type": "stream",
     "text": [
      "Wizard\n",
      "(array(['Leotris', 'Strahd', 'Timeout'], dtype='<U7'), array([279, 594, 127], dtype=int64))\n",
      "---\n",
      "Barbarian\n",
      "(array(['Leotris', 'Strahd', 'Timeout'], dtype='<U7'), array([179,   5, 816], dtype=int64))\n",
      "---\n",
      "Ranger\n",
      "(array(['Leotris', 'Strahd', 'Timeout'], dtype='<U7'), array([344, 180, 476], dtype=int64))\n",
      "---\n"
     ]
    }
   ],
   "source": [
    "SARSA_RESULTS_DICT = {\n",
    "    'Wizard':\"results\\AnandakrishnanDumps\\SARSA\\winner_list_SARSA_EXPT_Wizard_Vs_Manticore_SARSA_STARTED_2022-11-09T16-06-19_NITERS1000.pickle\",\n",
    "    'Barbarian':\"results\\AnandakrishnanDumps\\SARSA\\winner_list_SARSA_EXPT_Barb_Vs_Manticore_SARSA_STARTED_2022-11-09T16-05-43_NITERS1000.pickle\",\n",
    "    'Ranger':\"results\\AnandakrishnanDumps\\SARSA\\winner_list_SARSA_EXPT_Wizard_Vs_Manticore_SARSA_STARTED_2022-11-09T16-05-57_NITERS1000.pickle\"\n",
    "}\n",
    "\n",
    "for i in SARSA_RESULTS_DICT:\n",
    "    res = dill.load(open(SARSA_RESULTS_DICT[i], \"rb\"))\n",
    "    print(i)\n",
    "    print(np.unique(np.array(res),return_counts=True))\n",
    "    print(\"---\")"
   ]
  },
  {
   "cell_type": "code",
   "execution_count": 3,
   "metadata": {},
   "outputs": [
    {
     "name": "stdout",
     "output_type": "stream",
     "text": [
      "Wizard\n",
      "(array(['Leotris', 'Strahd', 'Timeout'], dtype='<U7'), array([17676,  2322,     2], dtype=int64))\n",
      "---\n",
      "Barbarian\n",
      "(array(['Leotris', 'Strahd', 'Timeout'], dtype='<U7'), array([34, 26, 40], dtype=int64))\n",
      "---\n",
      "Ranger\n",
      "(array(['Leotris', 'Strahd', 'Timeout'], dtype='<U7'), array([9632,  366,    2], dtype=int64))\n",
      "---\n"
     ]
    }
   ],
   "source": [
    "PPO_DENSE_RESULTS_DICT = {\n",
    "    'Wizard':\"results\\AnandakrishnanDumps\\PPO_Dense\\winner_list_PPO_Wiz42_ITERS_20000.pickle\",\n",
    "    'Barbarian':\"results\\AnandakrishnanDumps\\PPO_Dense\\winner_list_PPO_Barb_ITERS_10000.pickle\",\n",
    "    'Ranger':\"results\\AnandakrishnanDumps\\PPO_Dense\\winner_list_PPO_Rang_ITERS_10000.pickle\"\n",
    "}\n",
    "\n",
    "for i in PPO_DENSE_RESULTS_DICT:\n",
    "    res = dill.load(open(PPO_DENSE_RESULTS_DICT[i], \"rb\"))\n",
    "    print(i)\n",
    "    print(np.unique(np.array(res),return_counts=True))\n",
    "    print(\"---\")"
   ]
  },
  {
   "cell_type": "markdown",
   "metadata": {},
   "source": [
    "# Explore Simulation of PPO"
   ]
  },
  {
   "cell_type": "code",
   "execution_count": 6,
   "metadata": {},
   "outputs": [
    {
     "data": {
      "text/html": [
       "<div>\n",
       "<style scoped>\n",
       "    .dataframe tbody tr th:only-of-type {\n",
       "        vertical-align: middle;\n",
       "    }\n",
       "\n",
       "    .dataframe tbody tr th {\n",
       "        vertical-align: top;\n",
       "    }\n",
       "\n",
       "    .dataframe thead th {\n",
       "        text-align: right;\n",
       "    }\n",
       "</style>\n",
       "<table border=\"1\" class=\"dataframe\">\n",
       "  <thead>\n",
       "    <tr style=\"text-align: right;\">\n",
       "      <th></th>\n",
       "      <th>Unnamed: 0</th>\n",
       "      <th>reward</th>\n",
       "      <th>num_actions</th>\n",
       "    </tr>\n",
       "  </thead>\n",
       "  <tbody>\n",
       "    <tr>\n",
       "      <th>count</th>\n",
       "      <td>903.000000</td>\n",
       "      <td>903.000000</td>\n",
       "      <td>903.000000</td>\n",
       "    </tr>\n",
       "    <tr>\n",
       "      <th>mean</th>\n",
       "      <td>497.982281</td>\n",
       "      <td>68.100775</td>\n",
       "      <td>159.311185</td>\n",
       "    </tr>\n",
       "    <tr>\n",
       "      <th>std</th>\n",
       "      <td>288.501288</td>\n",
       "      <td>2.406530</td>\n",
       "      <td>86.882005</td>\n",
       "    </tr>\n",
       "    <tr>\n",
       "      <th>min</th>\n",
       "      <td>2.000000</td>\n",
       "      <td>61.000000</td>\n",
       "      <td>43.000000</td>\n",
       "    </tr>\n",
       "    <tr>\n",
       "      <th>25%</th>\n",
       "      <td>245.500000</td>\n",
       "      <td>66.000000</td>\n",
       "      <td>99.000000</td>\n",
       "    </tr>\n",
       "    <tr>\n",
       "      <th>50%</th>\n",
       "      <td>498.000000</td>\n",
       "      <td>68.000000</td>\n",
       "      <td>138.000000</td>\n",
       "    </tr>\n",
       "    <tr>\n",
       "      <th>75%</th>\n",
       "      <td>744.500000</td>\n",
       "      <td>70.000000</td>\n",
       "      <td>196.500000</td>\n",
       "    </tr>\n",
       "    <tr>\n",
       "      <th>max</th>\n",
       "      <td>999.000000</td>\n",
       "      <td>77.000000</td>\n",
       "      <td>745.000000</td>\n",
       "    </tr>\n",
       "  </tbody>\n",
       "</table>\n",
       "</div>"
      ],
      "text/plain": [
       "       Unnamed: 0      reward  num_actions\n",
       "count  903.000000  903.000000   903.000000\n",
       "mean   497.982281   68.100775   159.311185\n",
       "std    288.501288    2.406530    86.882005\n",
       "min      2.000000   61.000000    43.000000\n",
       "25%    245.500000   66.000000    99.000000\n",
       "50%    498.000000   68.000000   138.000000\n",
       "75%    744.500000   70.000000   196.500000\n",
       "max    999.000000   77.000000   745.000000"
      ]
     },
     "execution_count": 6,
     "metadata": {},
     "output_type": "execute_result"
    }
   ],
   "source": [
    "df = pd.read_csv('results\\sims\\csvs\\Simulation_PPO_EXPT_Wizard_PPO_Dense_STARTED_2022-11-09T20-58-00_NSIMS1000.csv')\n",
    "df[df.winner=='Leotris'].describe()"
   ]
  },
  {
   "cell_type": "code",
   "execution_count": 9,
   "metadata": {},
   "outputs": [
    {
     "data": {
      "text/html": [
       "<div>\n",
       "<style scoped>\n",
       "    .dataframe tbody tr th:only-of-type {\n",
       "        vertical-align: middle;\n",
       "    }\n",
       "\n",
       "    .dataframe tbody tr th {\n",
       "        vertical-align: top;\n",
       "    }\n",
       "\n",
       "    .dataframe thead th {\n",
       "        text-align: right;\n",
       "    }\n",
       "</style>\n",
       "<table border=\"1\" class=\"dataframe\">\n",
       "  <thead>\n",
       "    <tr style=\"text-align: right;\">\n",
       "      <th></th>\n",
       "      <th>Unnamed: 0</th>\n",
       "      <th>reward</th>\n",
       "      <th>num_actions</th>\n",
       "    </tr>\n",
       "  </thead>\n",
       "  <tbody>\n",
       "    <tr>\n",
       "      <th>count</th>\n",
       "      <td>954.000000</td>\n",
       "      <td>954.000000</td>\n",
       "      <td>954.000000</td>\n",
       "    </tr>\n",
       "    <tr>\n",
       "      <th>mean</th>\n",
       "      <td>500.691824</td>\n",
       "      <td>71.780922</td>\n",
       "      <td>392.690776</td>\n",
       "    </tr>\n",
       "    <tr>\n",
       "      <th>std</th>\n",
       "      <td>287.446235</td>\n",
       "      <td>3.036195</td>\n",
       "      <td>204.789175</td>\n",
       "    </tr>\n",
       "    <tr>\n",
       "      <th>min</th>\n",
       "      <td>0.000000</td>\n",
       "      <td>63.000000</td>\n",
       "      <td>73.000000</td>\n",
       "    </tr>\n",
       "    <tr>\n",
       "      <th>25%</th>\n",
       "      <td>253.250000</td>\n",
       "      <td>70.000000</td>\n",
       "      <td>243.000000</td>\n",
       "    </tr>\n",
       "    <tr>\n",
       "      <th>50%</th>\n",
       "      <td>499.500000</td>\n",
       "      <td>72.000000</td>\n",
       "      <td>338.500000</td>\n",
       "    </tr>\n",
       "    <tr>\n",
       "      <th>75%</th>\n",
       "      <td>747.750000</td>\n",
       "      <td>74.000000</td>\n",
       "      <td>490.750000</td>\n",
       "    </tr>\n",
       "    <tr>\n",
       "      <th>max</th>\n",
       "      <td>999.000000</td>\n",
       "      <td>80.000000</td>\n",
       "      <td>1422.000000</td>\n",
       "    </tr>\n",
       "  </tbody>\n",
       "</table>\n",
       "</div>"
      ],
      "text/plain": [
       "       Unnamed: 0      reward  num_actions\n",
       "count  954.000000  954.000000   954.000000\n",
       "mean   500.691824   71.780922   392.690776\n",
       "std    287.446235    3.036195   204.789175\n",
       "min      0.000000   63.000000    73.000000\n",
       "25%    253.250000   70.000000   243.000000\n",
       "50%    499.500000   72.000000   338.500000\n",
       "75%    747.750000   74.000000   490.750000\n",
       "max    999.000000   80.000000  1422.000000"
      ]
     },
     "execution_count": 9,
     "metadata": {},
     "output_type": "execute_result"
    }
   ],
   "source": [
    "df = pd.read_csv('results\\sims\\csvs\\Simulation_PPO_EXPT_Barbarian_PPO_Dense_STARTED_2022-11-09T23-02-45_NSIMS1000.csv')\n",
    "df[df.winner=='Leotris'].describe()"
   ]
  },
  {
   "cell_type": "code",
   "execution_count": 8,
   "metadata": {},
   "outputs": [
    {
     "data": {
      "text/html": [
       "<div>\n",
       "<style scoped>\n",
       "    .dataframe tbody tr th:only-of-type {\n",
       "        vertical-align: middle;\n",
       "    }\n",
       "\n",
       "    .dataframe tbody tr th {\n",
       "        vertical-align: top;\n",
       "    }\n",
       "\n",
       "    .dataframe thead th {\n",
       "        text-align: right;\n",
       "    }\n",
       "</style>\n",
       "<table border=\"1\" class=\"dataframe\">\n",
       "  <thead>\n",
       "    <tr style=\"text-align: right;\">\n",
       "      <th></th>\n",
       "      <th>Unnamed: 0</th>\n",
       "      <th>reward</th>\n",
       "      <th>num_actions</th>\n",
       "    </tr>\n",
       "  </thead>\n",
       "  <tbody>\n",
       "    <tr>\n",
       "      <th>count</th>\n",
       "      <td>972.000000</td>\n",
       "      <td>972.000000</td>\n",
       "      <td>972.000000</td>\n",
       "    </tr>\n",
       "    <tr>\n",
       "      <th>mean</th>\n",
       "      <td>500.114198</td>\n",
       "      <td>76.118313</td>\n",
       "      <td>319.685185</td>\n",
       "    </tr>\n",
       "    <tr>\n",
       "      <th>std</th>\n",
       "      <td>288.840696</td>\n",
       "      <td>2.757518</td>\n",
       "      <td>162.879451</td>\n",
       "    </tr>\n",
       "    <tr>\n",
       "      <th>min</th>\n",
       "      <td>0.000000</td>\n",
       "      <td>67.000000</td>\n",
       "      <td>56.000000</td>\n",
       "    </tr>\n",
       "    <tr>\n",
       "      <th>25%</th>\n",
       "      <td>249.750000</td>\n",
       "      <td>74.000000</td>\n",
       "      <td>195.000000</td>\n",
       "    </tr>\n",
       "    <tr>\n",
       "      <th>50%</th>\n",
       "      <td>501.500000</td>\n",
       "      <td>76.000000</td>\n",
       "      <td>292.500000</td>\n",
       "    </tr>\n",
       "    <tr>\n",
       "      <th>75%</th>\n",
       "      <td>749.250000</td>\n",
       "      <td>78.000000</td>\n",
       "      <td>413.000000</td>\n",
       "    </tr>\n",
       "    <tr>\n",
       "      <th>max</th>\n",
       "      <td>999.000000</td>\n",
       "      <td>87.000000</td>\n",
       "      <td>1045.000000</td>\n",
       "    </tr>\n",
       "  </tbody>\n",
       "</table>\n",
       "</div>"
      ],
      "text/plain": [
       "       Unnamed: 0      reward  num_actions\n",
       "count  972.000000  972.000000   972.000000\n",
       "mean   500.114198   76.118313   319.685185\n",
       "std    288.840696    2.757518   162.879451\n",
       "min      0.000000   67.000000    56.000000\n",
       "25%    249.750000   74.000000   195.000000\n",
       "50%    501.500000   76.000000   292.500000\n",
       "75%    749.250000   78.000000   413.000000\n",
       "max    999.000000   87.000000  1045.000000"
      ]
     },
     "execution_count": 8,
     "metadata": {},
     "output_type": "execute_result"
    }
   ],
   "source": [
    "df = pd.read_csv('results\\sims\\csvs\\Simulation_PPO_EXPT_Ranger_PPO_Dense_STARTED_2022-11-09T23-02-48_NSIMS1000.csv')\n",
    "df[df.winner=='Leotris'].describe()"
   ]
  },
  {
   "cell_type": "code",
   "execution_count": null,
   "metadata": {},
   "outputs": [],
   "source": []
  }
 ],
 "metadata": {
  "kernelspec": {
   "display_name": "Python 3.6.13 ('cs5446_dnd')",
   "language": "python",
   "name": "python3"
  },
  "language_info": {
   "codemirror_mode": {
    "name": "ipython",
    "version": 3
   },
   "file_extension": ".py",
   "mimetype": "text/x-python",
   "name": "python",
   "nbconvert_exporter": "python",
   "pygments_lexer": "ipython3",
   "version": "3.6.13"
  },
  "orig_nbformat": 4,
  "vscode": {
   "interpreter": {
    "hash": "a4b9ad229121b29662cfeadce241473fe91dfdaf5146c5435feacc558a449858"
   }
  }
 },
 "nbformat": 4,
 "nbformat_minor": 2
}
