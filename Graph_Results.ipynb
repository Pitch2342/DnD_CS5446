{
 "cells": [
  {
   "cell_type": "markdown",
   "metadata": {},
   "source": [
    "# Imports"
   ]
  },
  {
   "cell_type": "code",
   "execution_count": 2,
   "metadata": {},
   "outputs": [],
   "source": [
    "import pandas as pd\n",
    "import dill\n",
    "from collections import Counter\n",
    "from collections import defaultdict\n",
    "from matplotlib import pyplot as plt\n",
    "import torch\n",
    "import numpy as np\n",
    "import os"
   ]
  },
  {
   "cell_type": "markdown",
   "metadata": {},
   "source": [
    "# Helper"
   ]
  },
  {
   "cell_type": "code",
   "execution_count": 3,
   "metadata": {},
   "outputs": [],
   "source": [
    "def calc_win_percentage(winner_list, creatures):\n",
    "    total_games_played = len(winner_list)\n",
    "    counts = Counter(winner_list)\n",
    "    win_percentages = {creature: num_wins/total_games_played for creature, num_wins in counts.items()}\n",
    "    for creature in creatures:\n",
    "        if creature not in win_percentages.keys():\n",
    "            win_percentages[creature] = 0\n",
    "    return win_percentages"
   ]
  },
  {
   "cell_type": "markdown",
   "metadata": {},
   "source": [
    "# EDIT HERE\n",
    "-  Look at the output below and copy your exact reward_list file name and paste in the next cell where asked along with model name"
   ]
  },
  {
   "cell_type": "code",
   "execution_count": 4,
   "metadata": {},
   "outputs": [
    {
     "data": {
      "text/plain": [
       "['model_PPO_EXPT_Wizard_Vs_Manticore_STARTED_2022-11-06T19-27-07_ITERS_10.pickle',\n",
       " 'model_PPO_EXPT_Wizard_Vs_Manticore_STARTED_2022-11-06T19-27-07_ITERS_20.pickle',\n",
       " 'model_PPO_EXPT_Wizard_Vs_Manticore_STARTED_2022-11-06T19-27-07_ITERS_30.pickle',\n",
       " 'model_PPO_EXPT_Wizard_Vs_Manticore_STARTED_2022-11-06T19-27-07_ITERS_40.pickle',\n",
       " 'model_PPO_EXPT_Wizard_Vs_Manticore_STARTED_2022-11-06T19-27-07_ITERS_50.pickle',\n",
       " 'PPO.png',\n",
       " 'reward_list_PPO_EXPT_Wizard_Vs_Manticore_STARTED_2022-11-06T19-27-07_NITERS50.pickle',\n",
       " 'winner_list_PPO_EXPT_Wizard_Vs_Manticore_STARTED_2022-11-06T19-27-07_NITERS50.pickle']"
      ]
     },
     "execution_count": 4,
     "metadata": {},
     "output_type": "execute_result"
    }
   ],
   "source": [
    "os.listdir('./results/')"
   ]
  },
  {
   "cell_type": "code",
   "execution_count": 5,
   "metadata": {},
   "outputs": [],
   "source": [
    "model_name = \"PPO\"\n",
    "winner_list_file_name = 'winner_list_PPO_EXPT_Wizard_Vs_Manticore_STARTED_2022-11-06T19-27-07_NITERS50.pickle'"
   ]
  },
  {
   "cell_type": "code",
   "execution_count": 6,
   "metadata": {},
   "outputs": [
    {
     "name": "stdout",
     "output_type": "stream",
     "text": [
      "Number of games played: 50\n",
      "0\n",
      "creature plot\n"
     ]
    },
    {
     "data": {
      "image/png": "[encoded data removed]",
      "text/plain": [
       "<Figure size 432x288 with 1 Axes>"
      ]
     },
     "metadata": {
      "needs_background": "light"
     },
     "output_type": "display_data"
    }
   ],
   "source": [
    "winner_list = dill.load(open(\"results/\"+winner_list_file_name, \"rb\"))\n",
    "\n",
    "batch_size = 10\n",
    "win_pcts = defaultdict(list)\n",
    "avg_rewards = list()\n",
    "\n",
    "creatures = [\"Leotris\"]  #, \"Strahd\", \"Timeout\"]\n",
    "\n",
    "print(\"Number of games played: {}\".format(len(winner_list)))\n",
    "\n",
    "# Graph win percentage:\n",
    "for i in range(0, len(winner_list) - batch_size):\n",
    "    if i%50000==0:print(i)\n",
    "    batch_winner_list = winner_list[i:(i+batch_size)]\n",
    "    win_pct = calc_win_percentage(batch_winner_list, creatures=creatures)\n",
    "    for creature, batch_win_pct in win_pct.items():\n",
    "        win_pcts[creature].append(batch_win_pct)\n",
    "print('creature plot')\n",
    "for creature in creatures:\n",
    "    plt.plot(range(len(win_pcts[creature])), win_pcts[creature], label=creature)\n",
    "plt.title(\"{} Game Win Percentage ({})\".format(batch_size, model_name))\n",
    "plt.ylabel(\"Win Percentage (%)\")\n",
    "plt.xlabel(\"{} Game Set\".format(batch_size))\n",
    "plt.legend()\n",
    "plt.savefig('results/{}_{}.png'.format(model_name,winner_list_file_name[:-4]))\n",
    "plt.show()"
   ]
  },
  {
   "cell_type": "code",
   "execution_count": null,
   "metadata": {},
   "outputs": [],
   "source": []
  }
 ],
 "metadata": {
  "kernelspec": {
   "display_name": "Python 3.6.13 ('cs5446_dnd')",
   "language": "python",
   "name": "python3"
  },
  "language_info": {
   "codemirror_mode": {
    "name": "ipython",
    "version": 3
   },
   "file_extension": ".py",
   "mimetype": "text/x-python",
   "name": "python",
   "nbconvert_exporter": "python",
   "pygments_lexer": "ipython3",
   "version": "3.6.13"
  },
  "orig_nbformat": 4,
  "vscode": {
   "interpreter": {
    "hash": "a4b9ad229121b29662cfeadce241473fe91dfdaf5146c5435feacc558a449858"
   }
  }
 },
 "nbformat": 4,
 "nbformat_minor": 2
}
